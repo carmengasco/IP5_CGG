{
 "cells": [
  {
   "cell_type": "markdown",
   "id": "27119b1d-eec8-452e-9e6b-be81dcbffee2",
   "metadata": {},
   "source": [
    "# Individual Project 5\n",
    "### Author: Carmen Gasco Galvez\n",
    "Version: 1.20.3, \n",
    "Spring semester"
   ]
  },
  {
   "cell_type": "markdown",
   "id": "574a4c2b-66a0-4c1f-aaac-8e4e0cd7eba9",
   "metadata": {},
   "source": [
    "1. Set up the Self-awareness dataset at least 65 entries. You will need to create models to predict the end of the day feeling.\n"
   ]
  },
  {
   "cell_type": "code",
   "execution_count": 1,
   "id": "5fa2dc38-5cc6-41da-b95c-b946292900d5",
   "metadata": {},
   "outputs": [],
   "source": [
    "import numpy as np\n",
    "import matplotlib.pyplot as plt\n",
    "import pandas as pd\n",
    "import seaborn as sns"
   ]
  },
  {
   "cell_type": "code",
   "execution_count": 2,
   "id": "0d743ee8-c518-46f0-beef-789cf6bfe476",
   "metadata": {},
   "outputs": [],
   "source": [
    "dataset=pd.read_excel('SAdataset.xlsx')"
   ]
  },
  {
   "cell_type": "code",
   "execution_count": 3,
   "id": "0d4bd467-ced8-46e3-b680-6fef94e25ab9",
   "metadata": {},
   "outputs": [
    {
     "data": {
      "text/html": [
       "<div>\n",
       "<style scoped>\n",
       "    .dataframe tbody tr th:only-of-type {\n",
       "        vertical-align: middle;\n",
       "    }\n",
       "\n",
       "    .dataframe tbody tr th {\n",
       "        vertical-align: top;\n",
       "    }\n",
       "\n",
       "    .dataframe thead th {\n",
       "        text-align: right;\n",
       "    }\n",
       "</style>\n",
       "<table border=\"1\" class=\"dataframe\">\n",
       "  <thead>\n",
       "    <tr style=\"text-align: right;\">\n",
       "      <th></th>\n",
       "      <th>Date</th>\n",
       "      <th>Day</th>\n",
       "      <th>Sleep Hour</th>\n",
       "      <th>Exercise Hour</th>\n",
       "      <th>Study Hour</th>\n",
       "      <th>StudyDS Hour</th>\n",
       "      <th>Work Hour</th>\n",
       "      <th>End of the day Feeling (0 to 10)</th>\n",
       "    </tr>\n",
       "  </thead>\n",
       "  <tbody>\n",
       "    <tr>\n",
       "      <th>0</th>\n",
       "      <td>14-ene</td>\n",
       "      <td>Friday</td>\n",
       "      <td>7.0</td>\n",
       "      <td>0.0</td>\n",
       "      <td>2.5</td>\n",
       "      <td>0.5</td>\n",
       "      <td>0</td>\n",
       "      <td>4</td>\n",
       "    </tr>\n",
       "    <tr>\n",
       "      <th>1</th>\n",
       "      <td>15-ene</td>\n",
       "      <td>Saturday</td>\n",
       "      <td>6.0</td>\n",
       "      <td>1.5</td>\n",
       "      <td>1.0</td>\n",
       "      <td>0.0</td>\n",
       "      <td>0</td>\n",
       "      <td>2</td>\n",
       "    </tr>\n",
       "    <tr>\n",
       "      <th>2</th>\n",
       "      <td>16-ene</td>\n",
       "      <td>Sunday</td>\n",
       "      <td>7.0</td>\n",
       "      <td>0.0</td>\n",
       "      <td>0.0</td>\n",
       "      <td>0.0</td>\n",
       "      <td>0</td>\n",
       "      <td>1</td>\n",
       "    </tr>\n",
       "    <tr>\n",
       "      <th>3</th>\n",
       "      <td>17-ene</td>\n",
       "      <td>Monday</td>\n",
       "      <td>6.0</td>\n",
       "      <td>0.0</td>\n",
       "      <td>6.2</td>\n",
       "      <td>0.0</td>\n",
       "      <td>0</td>\n",
       "      <td>0</td>\n",
       "    </tr>\n",
       "    <tr>\n",
       "      <th>4</th>\n",
       "      <td>19-ene</td>\n",
       "      <td>Wednesday</td>\n",
       "      <td>7.0</td>\n",
       "      <td>0.0</td>\n",
       "      <td>1.5</td>\n",
       "      <td>1.0</td>\n",
       "      <td>0</td>\n",
       "      <td>1</td>\n",
       "    </tr>\n",
       "  </tbody>\n",
       "</table>\n",
       "</div>"
      ],
      "text/plain": [
       "     Date        Day  Sleep Hour  Exercise Hour  Study Hour  StudyDS Hour  \\\n",
       "0  14-ene     Friday         7.0            0.0         2.5           0.5   \n",
       "1  15-ene   Saturday         6.0            1.5         1.0           0.0   \n",
       "2  16-ene     Sunday         7.0            0.0         0.0           0.0   \n",
       "3  17-ene     Monday         6.0            0.0         6.2           0.0   \n",
       "4  19-ene  Wednesday         7.0            0.0         1.5           1.0   \n",
       "\n",
       "   Work Hour  End of the day Feeling (0 to 10)  \n",
       "0          0                                 4  \n",
       "1          0                                 2  \n",
       "2          0                                 1  \n",
       "3          0                                 0  \n",
       "4          0                                 1  "
      ]
     },
     "execution_count": 3,
     "metadata": {},
     "output_type": "execute_result"
    }
   ],
   "source": [
    "dataset.head()"
   ]
  },
  {
   "cell_type": "code",
   "execution_count": 4,
   "id": "b91f0b13-e8e4-4070-9dfb-cd6ce48dee66",
   "metadata": {},
   "outputs": [
    {
     "name": "stdout",
     "output_type": "stream",
     "text": [
      "<class 'pandas.core.frame.DataFrame'>\n",
      "RangeIndex: 60 entries, 0 to 59\n",
      "Data columns (total 8 columns):\n",
      " #   Column                            Non-Null Count  Dtype  \n",
      "---  ------                            --------------  -----  \n",
      " 0   Date                              60 non-null     object \n",
      " 1   Day                               60 non-null     object \n",
      " 2   Sleep Hour                        60 non-null     float64\n",
      " 3   Exercise Hour                     60 non-null     float64\n",
      " 4   Study Hour                        60 non-null     float64\n",
      " 5   StudyDS Hour                      60 non-null     float64\n",
      " 6   Work Hour                         60 non-null     int64  \n",
      " 7   End of the day Feeling (0 to 10)  60 non-null     int64  \n",
      "dtypes: float64(4), int64(2), object(2)\n",
      "memory usage: 3.9+ KB\n"
     ]
    }
   ],
   "source": [
    "dataset.info()"
   ]
  },
  {
   "cell_type": "code",
   "execution_count": 5,
   "id": "7cce917c-48a0-4d2c-80d5-676a937bc571",
   "metadata": {},
   "outputs": [
    {
     "data": {
      "text/plain": [
       "Date                                0\n",
       "Day                                 0\n",
       "Sleep Hour                          0\n",
       "Exercise Hour                       0\n",
       "Study Hour                          0\n",
       "StudyDS Hour                        0\n",
       "Work Hour                           0\n",
       "End of the day Feeling (0 to 10)    0\n",
       "dtype: int64"
      ]
     },
     "execution_count": 5,
     "metadata": {},
     "output_type": "execute_result"
    }
   ],
   "source": [
    "dataset.isnull().sum()"
   ]
  },
  {
   "cell_type": "markdown",
   "id": "a099a72b-66b9-412b-ad81-4c4c2e63e085",
   "metadata": {},
   "source": [
    "\n",
    "\n",
    "There are no missing values, so it is not necessary to see the distribution of the data"
   ]
  },
  {
   "cell_type": "markdown",
   "id": "9f584796-fa9a-4b3d-ab4d-70c9669ef0d8",
   "metadata": {},
   "source": [
    "2. Split your dataset into 48 entries for training, 12 entries for testing and 5 entries for validation."
   ]
  },
  {
   "cell_type": "code",
   "execution_count": 6,
   "id": "4a9169b4-6d8a-4006-b1d6-bad8c2804d4c",
   "metadata": {},
   "outputs": [
    {
     "data": {
      "text/plain": [
       "Index(['Date', 'Day', 'Sleep Hour', 'Exercise Hour', 'Study Hour',\n",
       "       'StudyDS Hour', 'Work Hour', 'End of the day Feeling (0 to 10)'],\n",
       "      dtype='object')"
      ]
     },
     "execution_count": 6,
     "metadata": {},
     "output_type": "execute_result"
    }
   ],
   "source": [
    "dataset.columns"
   ]
  },
  {
   "cell_type": "code",
   "execution_count": 7,
   "id": "2e07eb1a-18af-4764-b425-b1e3553d5a71",
   "metadata": {},
   "outputs": [],
   "source": [
    "X=dataset[['Day', 'Sleep Hour', 'Exercise Hour', 'Study Hour',\n",
    "       'StudyDS Hour', 'Work Hour']]\n",
    "y=dataset[['End of the day Feeling (0 to 10)']]"
   ]
  },
  {
   "cell_type": "code",
   "execution_count": 8,
   "id": "5174b353-6461-4d8c-8b01-fc2dae9a3210",
   "metadata": {},
   "outputs": [],
   "source": [
    "X=pd.get_dummies(dataset[[ 'Day', 'Sleep Hour', 'Exercise Hour', 'Study Hour',\n",
    "       'StudyDS Hour', 'Work Hour']], drop_first=True)"
   ]
  },
  {
   "cell_type": "code",
   "execution_count": 9,
   "id": "be9fb224-080b-4558-8304-d07536b90bef",
   "metadata": {},
   "outputs": [
    {
     "data": {
      "text/html": [
       "<div>\n",
       "<style scoped>\n",
       "    .dataframe tbody tr th:only-of-type {\n",
       "        vertical-align: middle;\n",
       "    }\n",
       "\n",
       "    .dataframe tbody tr th {\n",
       "        vertical-align: top;\n",
       "    }\n",
       "\n",
       "    .dataframe thead th {\n",
       "        text-align: right;\n",
       "    }\n",
       "</style>\n",
       "<table border=\"1\" class=\"dataframe\">\n",
       "  <thead>\n",
       "    <tr style=\"text-align: right;\">\n",
       "      <th></th>\n",
       "      <th>Sleep Hour</th>\n",
       "      <th>Exercise Hour</th>\n",
       "      <th>Study Hour</th>\n",
       "      <th>StudyDS Hour</th>\n",
       "      <th>Work Hour</th>\n",
       "      <th>Day_Monday</th>\n",
       "      <th>Day_Saturday</th>\n",
       "      <th>Day_Sunday</th>\n",
       "      <th>Day_Thursday</th>\n",
       "      <th>Day_Tuesday</th>\n",
       "      <th>Day_Wednesday</th>\n",
       "    </tr>\n",
       "  </thead>\n",
       "  <tbody>\n",
       "    <tr>\n",
       "      <th>0</th>\n",
       "      <td>7.0</td>\n",
       "      <td>0.0</td>\n",
       "      <td>2.5</td>\n",
       "      <td>0.5</td>\n",
       "      <td>0</td>\n",
       "      <td>0</td>\n",
       "      <td>0</td>\n",
       "      <td>0</td>\n",
       "      <td>0</td>\n",
       "      <td>0</td>\n",
       "      <td>0</td>\n",
       "    </tr>\n",
       "    <tr>\n",
       "      <th>1</th>\n",
       "      <td>6.0</td>\n",
       "      <td>1.5</td>\n",
       "      <td>1.0</td>\n",
       "      <td>0.0</td>\n",
       "      <td>0</td>\n",
       "      <td>0</td>\n",
       "      <td>1</td>\n",
       "      <td>0</td>\n",
       "      <td>0</td>\n",
       "      <td>0</td>\n",
       "      <td>0</td>\n",
       "    </tr>\n",
       "    <tr>\n",
       "      <th>2</th>\n",
       "      <td>7.0</td>\n",
       "      <td>0.0</td>\n",
       "      <td>0.0</td>\n",
       "      <td>0.0</td>\n",
       "      <td>0</td>\n",
       "      <td>0</td>\n",
       "      <td>0</td>\n",
       "      <td>1</td>\n",
       "      <td>0</td>\n",
       "      <td>0</td>\n",
       "      <td>0</td>\n",
       "    </tr>\n",
       "    <tr>\n",
       "      <th>3</th>\n",
       "      <td>6.0</td>\n",
       "      <td>0.0</td>\n",
       "      <td>6.2</td>\n",
       "      <td>0.0</td>\n",
       "      <td>0</td>\n",
       "      <td>1</td>\n",
       "      <td>0</td>\n",
       "      <td>0</td>\n",
       "      <td>0</td>\n",
       "      <td>0</td>\n",
       "      <td>0</td>\n",
       "    </tr>\n",
       "    <tr>\n",
       "      <th>4</th>\n",
       "      <td>7.0</td>\n",
       "      <td>0.0</td>\n",
       "      <td>1.5</td>\n",
       "      <td>1.0</td>\n",
       "      <td>0</td>\n",
       "      <td>0</td>\n",
       "      <td>0</td>\n",
       "      <td>0</td>\n",
       "      <td>0</td>\n",
       "      <td>0</td>\n",
       "      <td>1</td>\n",
       "    </tr>\n",
       "  </tbody>\n",
       "</table>\n",
       "</div>"
      ],
      "text/plain": [
       "   Sleep Hour  Exercise Hour  Study Hour  StudyDS Hour  Work Hour  Day_Monday  \\\n",
       "0         7.0            0.0         2.5           0.5          0           0   \n",
       "1         6.0            1.5         1.0           0.0          0           0   \n",
       "2         7.0            0.0         0.0           0.0          0           0   \n",
       "3         6.0            0.0         6.2           0.0          0           1   \n",
       "4         7.0            0.0         1.5           1.0          0           0   \n",
       "\n",
       "   Day_Saturday  Day_Sunday  Day_Thursday  Day_Tuesday  Day_Wednesday  \n",
       "0             0           0             0            0              0  \n",
       "1             1           0             0            0              0  \n",
       "2             0           1             0            0              0  \n",
       "3             0           0             0            0              0  \n",
       "4             0           0             0            0              1  "
      ]
     },
     "execution_count": 9,
     "metadata": {},
     "output_type": "execute_result"
    }
   ],
   "source": [
    "X.head()"
   ]
  },
  {
   "cell_type": "code",
   "execution_count": 10,
   "id": "1967e218-7072-4ab7-9511-d89910bde9a7",
   "metadata": {},
   "outputs": [],
   "source": [
    "from sklearn.model_selection import train_test_split\n",
    "X_train,X_test,y_train,y_test=train_test_split(X,y,test_size=0.2, random_state=42)"
   ]
  },
  {
   "cell_type": "markdown",
   "id": "bbe3afa2-3604-44aa-bed4-d039baf97883",
   "metadata": {},
   "source": [
    "Now I train my model"
   ]
  },
  {
   "cell_type": "code",
   "execution_count": 11,
   "id": "c4ae6804-1627-4b16-9eae-a75e65608d8e",
   "metadata": {},
   "outputs": [
    {
     "data": {
      "text/plain": [
       "LinearRegression()"
      ]
     },
     "execution_count": 11,
     "metadata": {},
     "output_type": "execute_result"
    }
   ],
   "source": [
    "from sklearn.linear_model import LinearRegression\n",
    "regressor=LinearRegression()\n",
    "regressor.fit(X_train,y_train)"
   ]
  },
  {
   "cell_type": "markdown",
   "id": "1452e2ec-d700-4b02-a6d3-46345dd2243d",
   "metadata": {},
   "source": [
    "Intercept and coefficeints"
   ]
  },
  {
   "cell_type": "code",
   "execution_count": 12,
   "id": "b5669e64-3639-4ec4-87c4-969fdabfd1c9",
   "metadata": {},
   "outputs": [
    {
     "name": "stdout",
     "output_type": "stream",
     "text": [
      "Coefficients [[-5.87534219e-02  7.27765899e-02  3.33045130e-02  3.39337669e-02\n",
      "   1.38777878e-17 -1.71977842e-01  3.71033166e-01 -1.54651570e-01\n",
      "  -1.18060166e-01 -2.86180467e-01 -6.81690800e-02]]\n",
      "Intercept [1.92027358]\n"
     ]
    }
   ],
   "source": [
    "print(\"Coefficients\",regressor.coef_)\n",
    "print(\"Intercept\",regressor.intercept_)"
   ]
  },
  {
   "cell_type": "markdown",
   "id": "c60920f4-f33c-45eb-a28c-b1385d2e8afd",
   "metadata": {},
   "source": [
    "Predicting the Test set results "
   ]
  },
  {
   "cell_type": "code",
   "execution_count": 13,
   "id": "26cc6511-6bf1-4695-acf8-46df7336e822",
   "metadata": {},
   "outputs": [],
   "source": [
    "y_pred=regressor.predict(X_test)"
   ]
  },
  {
   "cell_type": "markdown",
   "id": "0feb539b-8c3b-4879-8cc7-dee63148f5a8",
   "metadata": {},
   "source": [
    "Validation"
   ]
  },
  {
   "cell_type": "code",
   "execution_count": 14,
   "id": "3bc908cd-ab47-46d9-ad70-57ae2dae8d51",
   "metadata": {},
   "outputs": [
    {
     "data": {
      "text/html": [
       "<div>\n",
       "<style scoped>\n",
       "    .dataframe tbody tr th:only-of-type {\n",
       "        vertical-align: middle;\n",
       "    }\n",
       "\n",
       "    .dataframe tbody tr th {\n",
       "        vertical-align: top;\n",
       "    }\n",
       "\n",
       "    .dataframe thead th {\n",
       "        text-align: right;\n",
       "    }\n",
       "</style>\n",
       "<table border=\"1\" class=\"dataframe\">\n",
       "  <thead>\n",
       "    <tr style=\"text-align: right;\">\n",
       "      <th></th>\n",
       "      <th>Sleep Hour</th>\n",
       "      <th>Exercise Hour</th>\n",
       "      <th>Study Hour</th>\n",
       "      <th>StudyDS Hour</th>\n",
       "      <th>Work Hour</th>\n",
       "      <th>Day_Monday</th>\n",
       "      <th>Day_Saturday</th>\n",
       "      <th>Day_Sunday</th>\n",
       "      <th>Day_Thursday</th>\n",
       "      <th>Day_Tuesday</th>\n",
       "      <th>Day_Wednesday</th>\n",
       "    </tr>\n",
       "  </thead>\n",
       "  <tbody>\n",
       "    <tr>\n",
       "      <th>0</th>\n",
       "      <td>7.0</td>\n",
       "      <td>0.0</td>\n",
       "      <td>2.5</td>\n",
       "      <td>0.5</td>\n",
       "      <td>0</td>\n",
       "      <td>0</td>\n",
       "      <td>0</td>\n",
       "      <td>0</td>\n",
       "      <td>0</td>\n",
       "      <td>0</td>\n",
       "      <td>0</td>\n",
       "    </tr>\n",
       "    <tr>\n",
       "      <th>1</th>\n",
       "      <td>6.0</td>\n",
       "      <td>1.5</td>\n",
       "      <td>1.0</td>\n",
       "      <td>0.0</td>\n",
       "      <td>0</td>\n",
       "      <td>0</td>\n",
       "      <td>1</td>\n",
       "      <td>0</td>\n",
       "      <td>0</td>\n",
       "      <td>0</td>\n",
       "      <td>0</td>\n",
       "    </tr>\n",
       "    <tr>\n",
       "      <th>2</th>\n",
       "      <td>7.0</td>\n",
       "      <td>0.0</td>\n",
       "      <td>0.0</td>\n",
       "      <td>0.0</td>\n",
       "      <td>0</td>\n",
       "      <td>0</td>\n",
       "      <td>0</td>\n",
       "      <td>1</td>\n",
       "      <td>0</td>\n",
       "      <td>0</td>\n",
       "      <td>0</td>\n",
       "    </tr>\n",
       "    <tr>\n",
       "      <th>3</th>\n",
       "      <td>6.0</td>\n",
       "      <td>0.0</td>\n",
       "      <td>6.2</td>\n",
       "      <td>0.0</td>\n",
       "      <td>0</td>\n",
       "      <td>1</td>\n",
       "      <td>0</td>\n",
       "      <td>0</td>\n",
       "      <td>0</td>\n",
       "      <td>0</td>\n",
       "      <td>0</td>\n",
       "    </tr>\n",
       "    <tr>\n",
       "      <th>4</th>\n",
       "      <td>7.0</td>\n",
       "      <td>0.0</td>\n",
       "      <td>1.5</td>\n",
       "      <td>1.0</td>\n",
       "      <td>0</td>\n",
       "      <td>0</td>\n",
       "      <td>0</td>\n",
       "      <td>0</td>\n",
       "      <td>0</td>\n",
       "      <td>0</td>\n",
       "      <td>1</td>\n",
       "    </tr>\n",
       "  </tbody>\n",
       "</table>\n",
       "</div>"
      ],
      "text/plain": [
       "   Sleep Hour  Exercise Hour  Study Hour  StudyDS Hour  Work Hour  Day_Monday  \\\n",
       "0         7.0            0.0         2.5           0.5          0           0   \n",
       "1         6.0            1.5         1.0           0.0          0           0   \n",
       "2         7.0            0.0         0.0           0.0          0           0   \n",
       "3         6.0            0.0         6.2           0.0          0           1   \n",
       "4         7.0            0.0         1.5           1.0          0           0   \n",
       "\n",
       "   Day_Saturday  Day_Sunday  Day_Thursday  Day_Tuesday  Day_Wednesday  \n",
       "0             0           0             0            0              0  \n",
       "1             1           0             0            0              0  \n",
       "2             0           1             0            0              0  \n",
       "3             0           0             0            0              0  \n",
       "4             0           0             0            0              1  "
      ]
     },
     "execution_count": 14,
     "metadata": {},
     "output_type": "execute_result"
    }
   ],
   "source": [
    "X.head()"
   ]
  },
  {
   "cell_type": "markdown",
   "id": "683fd704-17c5-4b0d-9758-1905c56cba81",
   "metadata": {},
   "source": [
    "Tuesday, sleep 6.5, exercise 0.5, study 2.8, study DS 0, Work 0, Feeling 0"
   ]
  },
  {
   "cell_type": "code",
   "execution_count": 15,
   "id": "0ac4af8d-3fd0-435d-b07d-335673a8e35d",
   "metadata": {},
   "outputs": [
    {
     "data": {
      "text/plain": [
       "array([[1.3818368]])"
      ]
     },
     "execution_count": 15,
     "metadata": {},
     "output_type": "execute_result"
    }
   ],
   "source": [
    "regressor.predict([[6.5, 0.5, 2.8, 0,0,0,0,0,0,1 ,0]])"
   ]
  },
  {
   "cell_type": "markdown",
   "id": "bac27a5f-7518-44a9-8817-97ac38ba0d04",
   "metadata": {},
   "source": [
    "Thursday, sleep 7, exercise 1.5, study 3.5, study DS 0, Work 0, Feeling 1"
   ]
  },
  {
   "cell_type": "code",
   "execution_count": 16,
   "id": "e6028cf4-6cd5-400a-93e4-1033c5c0f9c0",
   "metadata": {},
   "outputs": [
    {
     "data": {
      "text/plain": [
       "array([[1.61667014]])"
      ]
     },
     "execution_count": 16,
     "metadata": {},
     "output_type": "execute_result"
    }
   ],
   "source": [
    "regressor.predict([[7, 1.5, 3.5, 0,0,0,0,0,1,0 ,0]])"
   ]
  },
  {
   "cell_type": "markdown",
   "id": "2a59dc69-830e-486f-bb19-e0f7081805ce",
   "metadata": {},
   "source": [
    "Monday, sleep 5, exercise 0, study 5, study DS 0, Work 0, Feeling 2"
   ]
  },
  {
   "cell_type": "code",
   "execution_count": 17,
   "id": "2bc3aaab-f71c-46d1-a069-15950850a738",
   "metadata": {},
   "outputs": [
    {
     "data": {
      "text/plain": [
       "array([[1.62105119]])"
      ]
     },
     "execution_count": 17,
     "metadata": {},
     "output_type": "execute_result"
    }
   ],
   "source": [
    "regressor.predict([[5, 0, 5, 0,0,1,0,0,0,0 ,0]])"
   ]
  },
  {
   "cell_type": "markdown",
   "id": "aa542d32-4d10-4ff6-bec6-76c2ac8b857b",
   "metadata": {},
   "source": [
    "Thursday, sleep 5.5, exercise 1, study 0, study DS 0, Work 0, Feeling 3"
   ]
  },
  {
   "cell_type": "code",
   "execution_count": 18,
   "id": "3bbb0470-b01d-426f-864e-fa2d82f12b21",
   "metadata": {},
   "outputs": [
    {
     "data": {
      "text/plain": [
       "array([[1.55184618]])"
      ]
     },
     "execution_count": 18,
     "metadata": {},
     "output_type": "execute_result"
    }
   ],
   "source": [
    "regressor.predict([[5.5, 1, 0, 0,0,0,0,0,1,0 ,0]])"
   ]
  },
  {
   "cell_type": "markdown",
   "id": "37eb1a17-a7ce-417e-a996-0203879afcd1",
   "metadata": {},
   "source": [
    "Monday, sleep 6.5, exercise 0, study 0, study DS 0, Work 0, Feeling 2"
   ]
  },
  {
   "cell_type": "code",
   "execution_count": 19,
   "id": "0af52432-ee0f-4526-b494-f88bf636d249",
   "metadata": {},
   "outputs": [
    {
     "data": {
      "text/plain": [
       "array([[1.36639849]])"
      ]
     },
     "execution_count": 19,
     "metadata": {},
     "output_type": "execute_result"
    }
   ],
   "source": [
    "regressor.predict([[6.5, 0, 0, 0,0,1,0,0,0,0 ,0]])"
   ]
  },
  {
   "cell_type": "code",
   "execution_count": 20,
   "id": "2f47eb2b-e266-4b3d-bd95-4b3cd04b8aa1",
   "metadata": {},
   "outputs": [
    {
     "name": "stdout",
     "output_type": "stream",
     "text": [
      "R-Square 0.06703045585846656\n"
     ]
    }
   ],
   "source": [
    "from sklearn.metrics import r2_score\n",
    "print('R-Square', r2_score(y_test,y_pred))"
   ]
  },
  {
   "cell_type": "code",
   "execution_count": 23,
   "id": "8924c709-e858-4b3d-8c50-bc4a142cf830",
   "metadata": {},
   "outputs": [],
   "source": [
    "import statsmodels.api as sm\n",
    "X=sm.add_constant(X)"
   ]
  },
  {
   "cell_type": "code",
   "execution_count": 24,
   "id": "d7bde113-bcb0-4a45-97bb-5e3d8ad5a998",
   "metadata": {},
   "outputs": [],
   "source": [
    "model=sm.OLS(y,X).fit()"
   ]
  },
  {
   "cell_type": "code",
   "execution_count": 25,
   "id": "3a11eee9-69f9-4e92-a458-33c746115432",
   "metadata": {},
   "outputs": [
    {
     "data": {
      "text/html": [
       "<table class=\"simpletable\">\n",
       "<caption>OLS Regression Results</caption>\n",
       "<tr>\n",
       "  <th>Dep. Variable:</th>    <td>End of the day Feeling (0 to 10)</td> <th>  R-squared:         </th> <td>   0.098</td>\n",
       "</tr>\n",
       "<tr>\n",
       "  <th>Model:</th>                           <td>OLS</td>               <th>  Adj. R-squared:    </th> <td>  -0.086</td>\n",
       "</tr>\n",
       "<tr>\n",
       "  <th>Method:</th>                     <td>Least Squares</td>          <th>  F-statistic:       </th> <td>  0.5325</td>\n",
       "</tr>\n",
       "<tr>\n",
       "  <th>Date:</th>                     <td>Sun, 20 Mar 2022</td>         <th>  Prob (F-statistic):</th>  <td> 0.859</td> \n",
       "</tr>\n",
       "<tr>\n",
       "  <th>Time:</th>                         <td>00:51:51</td>             <th>  Log-Likelihood:    </th> <td> -80.843</td>\n",
       "</tr>\n",
       "<tr>\n",
       "  <th>No. Observations:</th>              <td>    60</td>              <th>  AIC:               </th> <td>   183.7</td>\n",
       "</tr>\n",
       "<tr>\n",
       "  <th>Df Residuals:</th>                  <td>    49</td>              <th>  BIC:               </th> <td>   206.7</td>\n",
       "</tr>\n",
       "<tr>\n",
       "  <th>Df Model:</th>                      <td>    10</td>              <th>                     </th>     <td> </td>   \n",
       "</tr>\n",
       "<tr>\n",
       "  <th>Covariance Type:</th>              <td>nonrobust</td>            <th>                     </th>     <td> </td>   \n",
       "</tr>\n",
       "</table>\n",
       "<table class=\"simpletable\">\n",
       "<tr>\n",
       "        <td></td>           <th>coef</th>     <th>std err</th>      <th>t</th>      <th>P>|t|</th>  <th>[0.025</th>    <th>0.975]</th>  \n",
       "</tr>\n",
       "<tr>\n",
       "  <th>const</th>         <td>    2.0931</td> <td>    1.653</td> <td>    1.266</td> <td> 0.211</td> <td>   -1.229</td> <td>    5.415</td>\n",
       "</tr>\n",
       "<tr>\n",
       "  <th>Sleep Hour</th>    <td>   -0.0282</td> <td>    0.249</td> <td>   -0.113</td> <td> 0.910</td> <td>   -0.528</td> <td>    0.472</td>\n",
       "</tr>\n",
       "<tr>\n",
       "  <th>Exercise Hour</th> <td>    0.0068</td> <td>    0.242</td> <td>    0.028</td> <td> 0.978</td> <td>   -0.479</td> <td>    0.492</td>\n",
       "</tr>\n",
       "<tr>\n",
       "  <th>Study Hour</th>    <td>    0.0445</td> <td>    0.077</td> <td>    0.575</td> <td> 0.568</td> <td>   -0.111</td> <td>    0.200</td>\n",
       "</tr>\n",
       "<tr>\n",
       "  <th>StudyDS Hour</th>  <td>    0.0203</td> <td>    0.190</td> <td>    0.107</td> <td> 0.916</td> <td>   -0.362</td> <td>    0.403</td>\n",
       "</tr>\n",
       "<tr>\n",
       "  <th>Work Hour</th>     <td> 2.185e-16</td> <td> 4.34e-16</td> <td>    0.503</td> <td> 0.617</td> <td>-6.54e-16</td> <td> 1.09e-15</td>\n",
       "</tr>\n",
       "<tr>\n",
       "  <th>Day_Monday</th>    <td>   -0.7392</td> <td>    0.544</td> <td>   -1.359</td> <td> 0.180</td> <td>   -1.832</td> <td>    0.354</td>\n",
       "</tr>\n",
       "<tr>\n",
       "  <th>Day_Saturday</th>  <td>    0.1126</td> <td>    0.466</td> <td>    0.242</td> <td> 0.810</td> <td>   -0.823</td> <td>    1.048</td>\n",
       "</tr>\n",
       "<tr>\n",
       "  <th>Day_Sunday</th>    <td>   -0.5591</td> <td>    0.476</td> <td>   -1.175</td> <td> 0.246</td> <td>   -1.516</td> <td>    0.397</td>\n",
       "</tr>\n",
       "<tr>\n",
       "  <th>Day_Thursday</th>  <td>   -0.4243</td> <td>    0.521</td> <td>   -0.815</td> <td> 0.419</td> <td>   -1.471</td> <td>    0.622</td>\n",
       "</tr>\n",
       "<tr>\n",
       "  <th>Day_Tuesday</th>   <td>   -0.5681</td> <td>    0.514</td> <td>   -1.105</td> <td> 0.275</td> <td>   -1.601</td> <td>    0.465</td>\n",
       "</tr>\n",
       "<tr>\n",
       "  <th>Day_Wednesday</th> <td>   -0.5853</td> <td>    0.485</td> <td>   -1.207</td> <td> 0.233</td> <td>   -1.560</td> <td>    0.389</td>\n",
       "</tr>\n",
       "</table>\n",
       "<table class=\"simpletable\">\n",
       "<tr>\n",
       "  <th>Omnibus:</th>       <td> 1.761</td> <th>  Durbin-Watson:     </th> <td>   1.164</td>\n",
       "</tr>\n",
       "<tr>\n",
       "  <th>Prob(Omnibus):</th> <td> 0.415</td> <th>  Jarque-Bera (JB):  </th> <td>   1.279</td>\n",
       "</tr>\n",
       "<tr>\n",
       "  <th>Skew:</th>          <td> 0.104</td> <th>  Prob(JB):          </th> <td>   0.527</td>\n",
       "</tr>\n",
       "<tr>\n",
       "  <th>Kurtosis:</th>      <td> 2.316</td> <th>  Cond. No.          </th> <td>1.87e+17</td>\n",
       "</tr>\n",
       "</table><br/><br/>Notes:<br/>[1] Standard Errors assume that the covariance matrix of the errors is correctly specified.<br/>[2] The smallest eigenvalue is 8.14e-32. This might indicate that there are<br/>strong multicollinearity problems or that the design matrix is singular."
      ],
      "text/plain": [
       "<class 'statsmodels.iolib.summary.Summary'>\n",
       "\"\"\"\n",
       "                                   OLS Regression Results                                   \n",
       "============================================================================================\n",
       "Dep. Variable:     End of the day Feeling (0 to 10)   R-squared:                       0.098\n",
       "Model:                                          OLS   Adj. R-squared:                 -0.086\n",
       "Method:                               Least Squares   F-statistic:                    0.5325\n",
       "Date:                              Sun, 20 Mar 2022   Prob (F-statistic):              0.859\n",
       "Time:                                      00:51:51   Log-Likelihood:                -80.843\n",
       "No. Observations:                                60   AIC:                             183.7\n",
       "Df Residuals:                                    49   BIC:                             206.7\n",
       "Df Model:                                        10                                         \n",
       "Covariance Type:                          nonrobust                                         \n",
       "=================================================================================\n",
       "                    coef    std err          t      P>|t|      [0.025      0.975]\n",
       "---------------------------------------------------------------------------------\n",
       "const             2.0931      1.653      1.266      0.211      -1.229       5.415\n",
       "Sleep Hour       -0.0282      0.249     -0.113      0.910      -0.528       0.472\n",
       "Exercise Hour     0.0068      0.242      0.028      0.978      -0.479       0.492\n",
       "Study Hour        0.0445      0.077      0.575      0.568      -0.111       0.200\n",
       "StudyDS Hour      0.0203      0.190      0.107      0.916      -0.362       0.403\n",
       "Work Hour      2.185e-16   4.34e-16      0.503      0.617   -6.54e-16    1.09e-15\n",
       "Day_Monday       -0.7392      0.544     -1.359      0.180      -1.832       0.354\n",
       "Day_Saturday      0.1126      0.466      0.242      0.810      -0.823       1.048\n",
       "Day_Sunday       -0.5591      0.476     -1.175      0.246      -1.516       0.397\n",
       "Day_Thursday     -0.4243      0.521     -0.815      0.419      -1.471       0.622\n",
       "Day_Tuesday      -0.5681      0.514     -1.105      0.275      -1.601       0.465\n",
       "Day_Wednesday    -0.5853      0.485     -1.207      0.233      -1.560       0.389\n",
       "==============================================================================\n",
       "Omnibus:                        1.761   Durbin-Watson:                   1.164\n",
       "Prob(Omnibus):                  0.415   Jarque-Bera (JB):                1.279\n",
       "Skew:                           0.104   Prob(JB):                        0.527\n",
       "Kurtosis:                       2.316   Cond. No.                     1.87e+17\n",
       "==============================================================================\n",
       "\n",
       "Notes:\n",
       "[1] Standard Errors assume that the covariance matrix of the errors is correctly specified.\n",
       "[2] The smallest eigenvalue is 8.14e-32. This might indicate that there are\n",
       "strong multicollinearity problems or that the design matrix is singular.\n",
       "\"\"\""
      ]
     },
     "execution_count": 25,
     "metadata": {},
     "output_type": "execute_result"
    }
   ],
   "source": [
    "model.summary()"
   ]
  },
  {
   "cell_type": "code",
   "execution_count": null,
   "id": "38c0adf2-6f77-4df7-8088-cba65c049102",
   "metadata": {},
   "outputs": [],
   "source": []
  }
 ],
 "metadata": {
  "kernelspec": {
   "display_name": "Python 3 (ipykernel)",
   "language": "python",
   "name": "python3"
  },
  "language_info": {
   "codemirror_mode": {
    "name": "ipython",
    "version": 3
   },
   "file_extension": ".py",
   "mimetype": "text/x-python",
   "name": "python",
   "nbconvert_exporter": "python",
   "pygments_lexer": "ipython3",
   "version": "3.9.7"
  }
 },
 "nbformat": 4,
 "nbformat_minor": 5
}
